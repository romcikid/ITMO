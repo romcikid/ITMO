{
 "metadata": {
  "language_info": {
   "codemirror_mode": {
    "name": "ipython",
    "version": 3
   },
   "file_extension": ".py",
   "mimetype": "text/x-python",
   "name": "python",
   "nbconvert_exporter": "python",
   "pygments_lexer": "ipython3",
   "version": "3.7.5-final"
  },
  "orig_nbformat": 2,
  "kernelspec": {
   "name": "python3",
   "display_name": "Python 3.7.5 64-bit",
   "metadata": {
    "interpreter": {
     "hash": "5247e45f55a724347f31ab43ea75ee4f523c78b9ed6e2d1c62d227887969829b"
    }
   }
  }
 },
 "nbformat": 4,
 "nbformat_minor": 2,
 "cells": [
  {
   "source": [
    "Задание 2+\n",
    "\n",
    "Шаг 1. Сделать непараметрические оценки плотности распределения в виде гистограммы и ядерной оценки МСВ.​\n",
    "\n",
    "Шаг 2. Оценить мат. ожидание и дисперсию МСВ.​\n",
    "\n",
    "Шаг 3. Сделать непараметрические оценки условных распределений, мат. ожиданий и дисперсий.​\n",
    "\n",
    "Шаг 4. Оценить парные коэффициенты корреляции, дов. интервалы для них и уровни значимости. ​\n",
    "\n",
    "Шаг 5. Выбрать постановку задачи для регрессии. Оценить коэффициенты множественной корреляции (предиктанта на предикторы).​\n",
    "\n",
    "Шаг 6. Построить регрессионную модель. Выполнить анализ мультиколлинеарности и регуляризацию (при необходимости).​\n",
    "\n",
    "Шаг 7. Выполнить анализ качества предсказательной модели. Анализ распределения остатков, коэффициент детерминации."
   ],
   "cell_type": "markdown",
   "metadata": {}
  },
  {
   "cell_type": "code",
   "execution_count": null,
   "metadata": {},
   "outputs": [],
   "source": [
    "# Импорт пакетов \n",
    "import numpy as np\n",
    "import statsmodels.api as sm\n",
    "import sklearn\n",
    "import pandas as pd\n",
    "import seaborn as sns\n",
    "import matplotlib.pyplot as plt\n",
    "from sklearn.decomposition import PCA\n",
    "from sklearn.linear_model import LinearRegression\n",
    "from sklearn.metrics import mean_absolute_error\n",
    "from sklearn.metrics import mean_squared_error\n",
    "from sklearn.model_selection import train_test_split\n",
    "from sklearn.preprocessing import StandardScaler, MinMaxScaler\n",
    "from sklearn.manifold import TSNE\n",
    "from mpl_toolkits.mplot3d import Axes3D\n",
    "from scipy import stats\n",
    "from PIL import Image\n",
    "import scipy"
   ]
  },
  {
   "cell_type": "code",
   "execution_count": null,
   "metadata": {},
   "outputs": [],
   "source": [
    "# Импорт данных из csv-файла - \n",
    "# ежедневные данные о погоде с многочисленных австралийских метеостанций.\n",
    "\n",
    "path_to_file = 'weatherAUS.csv'\n",
    "source_df = pd.read_csv(path_to_file, engine='python')\n",
    "\n",
    "source_df.head(5)"
   ]
  },
  {
   "cell_type": "code",
   "execution_count": null,
   "metadata": {},
   "outputs": [],
   "source": [
    "#Отбираем нужные параметры\n",
    "new_df = source_df[['Temp3pm','Evaporation','Sunshine','Pressure3pm','WindGustSpeed']]\n",
    "\n",
    "#Удаление значений Nan\n",
    "#Можно заполнить средними, если мало пропусков.\n",
    "new_df = new_df.dropna()\n",
    "\n",
    "new_df.head(5)"
   ]
  },
  {
   "source": [
    "Шаг 1. Сделать непараметрические оценки плотности распределения в виде гистограммы и ядерной оценки МСВ.​"
   ],
   "cell_type": "markdown",
   "metadata": {}
  },
  {
   "cell_type": "code",
   "execution_count": null,
   "metadata": {},
   "outputs": [],
   "source": [
    "#Для трёхмерного пространства признаков\n",
    "pca2 = PCA(n_components=2)\n",
    "pca1 = PCA(n_components=1)\n",
    "\n",
    "#Переход к главным компонентам\n",
    "X_3dim_new = pd.DataFrame(pca2.fit_transform(new_df))\n",
    "X_3dim_new1 = pd.DataFrame(pca1.fit_transform(new_df))\n",
    "scaler = StandardScaler()\n",
    "\n",
    "#Масштабирование главных компонент\n",
    "X_3dim_new = pd.DataFrame(scaler.fit_transform(X_3dim_new))\n",
    "X_3dim_new1 = pd.DataFrame(scaler.fit_transform(X_3dim_new1))\n",
    "\n",
    "#График в пространстве 3-х размерностей исходных данных\n",
    "xs=new_df[['Temp3pm']]\n",
    "ys=new_df[['Evaporation']]\n",
    "zs=new_df[['Sunshine']] \n",
    "fig = plt.figure()\n",
    "ax = Axes3D(fig)\n",
    "ax.scatter(xs, ys, zs)\n",
    "ax.set_xlabel('Temp3pm')\n",
    "ax.set_ylabel('Evaporation')\n",
    "ax.set_zlabel('Sunshine')\n",
    "ax.set_title('Исходные данные в пространстве трёх выбранных признаков')"
   ]
  },
  {
   "source": [
    "\n",
    "Шаг 2. Оценить мат. ожидание и дисперсию МСВ.​"
   ],
   "cell_type": "markdown",
   "metadata": {}
  },
  {
   "cell_type": "code",
   "execution_count": null,
   "metadata": {},
   "outputs": [],
   "source": [
    "# Вычисление выборочного среднего, дисперсии\n",
    "mean = new_df.mean()\n",
    "var = np.var(new_df)\n",
    "\n",
    "print('Мат. ожидание \\n', mean, '\\n')\n",
    "print('Дисперсия \\n', var)"
   ]
  },
  {
   "source": [
    "Шаг 3. Сделать непараметрические оценки условных распределений, мат. ожиданий и дисперсий."
   ],
   "cell_type": "markdown",
   "metadata": {}
  },
  {
   "source": [
    "Шаг 4. Оценить парные коэффициенты корреляции, дов. интервалы для них и уровни значимости. ​"
   ],
   "cell_type": "markdown",
   "metadata": {}
  },
  {
   "cell_type": "code",
   "execution_count": null,
   "metadata": {},
   "outputs": [],
   "source": [
    "#отбор столбцов для построения коррекляционной матрицы\n",
    "X_train = new_df\n",
    "\n",
    "#построение диагональной маски\n",
    "mask = np.zeros_like(X_train.corr(), dtype=np.bool)\n",
    "mask[np.triu_indices_from(mask)] = True\n",
    "\n",
    "f, ax = plt.subplots(figsize=(10, 10))\n",
    "\n",
    "sns.heatmap(X_train.corr(), mask = mask, annot=True, fmt= '.1f', ax = ax, cmap = 'Blues')"
   ]
  },
  {
   "cell_type": "code",
   "execution_count": null,
   "metadata": {},
   "outputs": [],
   "source": [
    "#Визуальзация зависимости признаков между собой\n",
    "X = new_df[['Temp3pm','Sunshine','Pressure3pm','WindGustSpeed']]\n",
    "scaler = StandardScaler()\n",
    "y = new_df[['Evaporation']]\n",
    "X = pd.DataFrame(scaler.fit_transform(X))\n",
    "X.columns = ['Temp3pm','Sunshine','Pressure3pm','WindGustSpeed']\n",
    "\n",
    "\n",
    "#Создание subplot - нескольких графиков на одной картинке\n",
    "fig, axs = plt.subplots(4, 1)\n",
    "plt.subplots_adjust(wspace=0, hspace=2.5)\n",
    "axs[0].scatter(X[['Temp3pm']],y,s=10)\n",
    "axs[0].set_xlabel('Temp3pm')\n",
    "axs[0].set_ylabel('y')\n",
    "axs[0].grid(True)\n",
    "\n",
    "axs[1].scatter(X[['Sunshine']],y,s=10)\n",
    "axs[1].set_xlabel('Sunshine')\n",
    "axs[1].set_ylabel('y')\n",
    "axs[1].grid(True)\n",
    "\n",
    "axs[2].scatter(X[['Pressure3pm']],y,s=10)\n",
    "axs[2].set_xlabel('Pressure3pm')\n",
    "axs[2].set_ylabel('y')\n",
    "axs[2].grid(True)\n",
    "\n",
    "axs[3].scatter(X[['WindGustSpeed']],y,s=10)\n",
    "axs[3].set_xlabel('WindGustSpeed')\n",
    "axs[3].set_ylabel('y')\n",
    "axs[3].grid(True)"
   ]
  },
  {
   "source": [
    "Шаг 5. Выбрать постановку задачи для регрессии. Оценить коэффициенты множественной корреляции (предиктанта на предикторы)."
   ],
   "cell_type": "markdown",
   "metadata": {}
  },
  {
   "cell_type": "code",
   "execution_count": null,
   "metadata": {},
   "outputs": [],
   "source": [
    "#Отбор трёх самых значимых признаков\n",
    "X = new_df[['Temp3pm','Sunshine','Pressure3pm','WindGustSpeed']]\n",
    "#Нормирование признаков\n",
    "scaler = StandardScaler()\n",
    "y = new_df[['Evaporation']]\n",
    "X = pd.DataFrame(scaler.fit_transform(X))\n",
    "X.columns = ['Temp3pm','Sunshine','Pressure3pm','WindGustSpeed']\n",
    "scaler = StandardScaler()\n",
    "y = pd.DataFrame(scaler.fit_transform(y))\n",
    "y.columns = ['Evaporation']\n",
    "#Деление на тестовую и тренировочную выборки\n",
    "X_train, X_test, y_train, y_test = train_test_split(X, y, test_size=0.4, random_state=42)\n",
    "#Создание и обучение модели линейной регрессии\n",
    "reg = LinearRegression(normalize=True)\n",
    "reg.fit(X_train, y_train)\n",
    "y_pred = reg.predict(X_test)\n",
    "y_pred_all = np.array(reg.predict(X))"
   ]
  },
  {
   "source": [
    "Шаг 6. Построить регрессионную модель. Выполнить анализ мультиколлинеарности и регуляризацию (при необходимости).​"
   ],
   "cell_type": "markdown",
   "metadata": {}
  },
  {
   "cell_type": "code",
   "execution_count": null,
   "metadata": {},
   "outputs": [],
   "source": [
    "#Вычисление метрик модели\n",
    "mae = mean_absolute_error(y_test, y_pred)\n",
    "mse = mean_squared_error(y_test, y_pred)\n",
    "print('Mean absolute error = ', mae)\n",
    "print('Mean squared error = ', mse)\n",
    "# mape = mean_absolute_percentage_error(y_test, y_pred)\n",
    "# print('Mean absolute percentage error = ', mape)"
   ]
  },
  {
   "source": [
    "\n",
    "Шаг 7. Выполнить анализ качества предсказательной модели. Анализ распределения остатков, коэффициент детерминации."
   ],
   "cell_type": "markdown",
   "metadata": {}
  },
  {
   "cell_type": "code",
   "execution_count": null,
   "metadata": {},
   "outputs": [],
   "source": [
    "#Построение квантильного биплота по реальным и предсказанным значениям\n",
    "percs = np.linspace(0, 100, 21)\n",
    "qn_first = np.percentile(y, percs)\n",
    "qn_second = np.percentile(y_pred_all, percs)\n",
    "plt.figure(figsize=(6, 6))\n",
    "\n",
    "min_qn = np.min([qn_first.min(), qn_second.min()])\n",
    "max_qn = np.max([qn_first.max(), qn_second.max()])\n",
    "x = np.linspace(min_qn, max_qn)\n",
    "\n",
    "plt.plot(qn_first, qn_second, ls=\"\", marker=\"o\", markersize=6)\n",
    "plt.plot(x, x, color=\"k\", ls=\"--\")\n",
    "\n",
    "plt.xlabel(u'Реальные значения')\n",
    "plt.ylabel(u'Предсказанные значения')"
   ]
  },
  {
   "cell_type": "code",
   "execution_count": null,
   "metadata": {},
   "outputs": [],
   "source": [
    "x = []\n",
    "\n",
    "for i in range(len(y_test)):\n",
    "    x.append(i)\n",
    "#График реальных и предсказанных значений\n",
    "plt.scatter(x, y_test, label = u'Реальное значение')\n",
    "plt.scatter(x, y_pred, label = u'Предсказанное линейной моделью')\n",
    "plt.title(u'Количество испарений')\n",
    "plt.legend(loc=\"center right\",borderaxespad=0.1, bbox_to_anchor=(1.7, 0.5))"
   ]
  },
  {
   "cell_type": "code",
   "execution_count": null,
   "metadata": {},
   "outputs": [],
   "source": [
    "#Построение распределения остатков\n",
    "y1 = np.array(y)\n",
    "y2 = np.array(y_pred_all)\n",
    "y_diff = y1[:,0] - y2[:,0]\n",
    "sns.distplot(y_diff, kde=False)"
   ]
  },
  {
   "cell_type": "code",
   "execution_count": null,
   "metadata": {},
   "outputs": [],
   "source": [
    "# Вычисление коэффициента детерминации.\n",
    "mod = sm.OLS(y_train, X_train)\n",
    "res = mod.fit()\n",
    "print (res.conf_int(0.01))  "
   ]
  },
  {
   "cell_type": "code",
   "execution_count": null,
   "metadata": {},
   "outputs": [],
   "source": []
  }
 ]
}