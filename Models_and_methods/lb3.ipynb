{
 "metadata": {
  "language_info": {
   "codemirror_mode": {
    "name": "ipython",
    "version": 3
   },
   "file_extension": ".py",
   "mimetype": "text/x-python",
   "name": "python",
   "nbconvert_exporter": "python",
   "pygments_lexer": "ipython3",
   "version": "3.7.5-final"
  },
  "orig_nbformat": 2,
  "kernelspec": {
   "name": "python3",
   "display_name": "Python 3.7.5 64-bit",
   "metadata": {
    "interpreter": {
     "hash": "5247e45f55a724347f31ab43ea75ee4f523c78b9ed6e2d1c62d227887969829b"
    }
   }
  }
 },
 "nbformat": 4,
 "nbformat_minor": 2,
 "cells": [
  {
   "source": [
    "Шаг 1. Выбрать постановку задачи для семплирования и соответствующие целевые переменные из Вашего датасета.​\n",
    "\n",
    "Шаг 2. Используя одномерные параметрические распределения, подобранные в прошлом задании, выполнить генеративное моделирование целевых переменных.​\n",
    "\n",
    "Шаг 3. Выбрать дополнительные переменные, предположительно взаимосвязанные с целевыми, в том числе имеющие значимые коэффициенты корреляции.​\n",
    "\n",
    "Шаг 4. Построить байесовскую сеть для выбранного набора переменных, задав в ней связи (структуру) на основе многомерного статистического анализа и обучить распределения в узлах с использованием одного из предложенных алгоритмов. ​\n",
    "\n",
    "Шаг 5. Построить байесовскую сеть для выбранного набора переменных методами структурного обучения на более широком наборе признаков и обучить распределения в узлах с использованием одного из предложенных алгоритмов. ​\n",
    "\n",
    "Шаг 6. Проанализировать качество семплируемой целевой переменной в контексте постановки задачи (предсказание)."
   ],
   "cell_type": "markdown",
   "metadata": {}
  },
  {
   "cell_type": "code",
   "execution_count": null,
   "metadata": {},
   "outputs": [],
   "source": [
    "import pandas as pd\n",
    "import seaborn as sns\n",
    "import matplotlib.pyplot as plt\n",
    "import numpy as np\n",
    "from sklearn.preprocessing import KBinsDiscretizer\n",
    "from pgmpy.factors.discrete import TabularCPD\n",
    "from copy import  copy\n",
    "import networkx as nx\n",
    "\n",
    "\n",
    "from pgmpy.estimators import HillClimbSearch\n",
    "from pgmpy.estimators import BDeuScore, K2Score, BicScore\n",
    "from pgmpy.models import BayesianModel\n",
    "from pgmpy.sampling import BayesianModelSampling\n",
    "from pgmpy.base import DAG"
   ]
  },
  {
   "cell_type": "code",
   "execution_count": null,
   "metadata": {},
   "outputs": [],
   "source": [
    "# Импорт данных из csv-файла - \n",
    "# ежедневные данные о погоде с многочисленных австралийских метеостанций.\n",
    "\n",
    "path_to_file = 'weatherAUS.csv'\n",
    "source_df = pd.read_csv(path_to_file, engine='python')\n",
    "\n",
    "source_df.head(5)"
   ]
  },
  {
   "source": [
    "Шаг 1. Выбрать постановку задачи для семплирования и соответствующие целевые переменные из Вашего датасета.​"
   ],
   "cell_type": "markdown",
   "metadata": {}
  },
  {
   "cell_type": "code",
   "execution_count": null,
   "metadata": {},
   "outputs": [],
   "source": [
    "#Отбираем нужные параметры\n",
    "new_df = source_df[['Temp3pm','Evaporation','Sunshine']]\n",
    "\n",
    "#Удаление значений Nan\n",
    "#Можно заполнить средними, если мало пропусков.\n",
    "new_df = new_df.dropna()\n",
    "\n",
    "new_df.head(5)"
   ]
  },
  {
   "source": [
    "Из выбранного датасета были выбраны следующие три переменные: \n",
    "\n",
    "\n",
    "Temp3pm -- температура в три часа дня.\n",
    "\n",
    "Evaporation -- испарения;\n",
    "\n",
    "Sunshine -- солнечный свет.\n",
    "\n",
    "Задача: предсказание велечины испарения."
   ],
   "cell_type": "markdown",
   "metadata": {}
  },
  {
   "source": [
    "Шаг 4. Построить байесовскую сеть для выбранного набора переменных, задав в ней связи (структуру) на основе многомерного статистического анализа и обучить распределения в узлах с использованием одного из предложенных алгоритмов."
   ],
   "cell_type": "markdown",
   "metadata": {}
  },
  {
   "cell_type": "code",
   "execution_count": null,
   "metadata": {},
   "outputs": [],
   "source": [
    "# Создание байесовской сети.\n",
    "bn = BayesianModel()\n",
    "\n",
    "# Добавление вершин.\n",
    "bn.add_node(\"Temp3pm\")\n",
    "bn.add_node(\"Evaporation\")\n",
    "bn.add_node(\"Sunshine\")\n",
    "\n",
    "# Добавление ребер. Temp3pm\tEvaporation\tSunshine\n",
    "bn.add_edge(\"Temp3pm\", \"Evaporation\")\n",
    "bn.add_edge(\"Temp3pm\", \"Sunshine\")\n",
    "bn.add_edge(\"Evaporation\", \"Sunshine\")\n",
    "\n",
    "# Добавление весов.\n",
    "cpd_A = TabularCPD('Temp3pm', 2, values=[[.6],[.4]])\n",
    "cpd_B = TabularCPD('Evaporation', 2, values=[[.5],[.5]],\n",
    "                  evidence=['Temp3pm'],\n",
    "                  evidence_card=[2])\n",
    "cpd_С = TabularCPD('Sunshine', 2, values=[[.4],[.6]],\n",
    "                  evidence=['Temp3pm','Evaporation'],\n",
    "                  evidence_card=[2,2])\n",
    "\n",
    "bn.add_cpds(cpd_A, cpd_B, cpd_С)"
   ]
  },
  {
   "cell_type": "code",
   "execution_count": null,
   "metadata": {},
   "outputs": [],
   "source": [
    "# # Проверка модели.\n",
    "# bn.check_model()\n",
    "# print(\"Model is correct.\")"
   ]
  },
  {
   "cell_type": "code",
   "execution_count": null,
   "metadata": {},
   "outputs": [],
   "source": [
    "def draw_comparative_hist (parametr: str, original_data: pd.DataFrame, data_sampled: pd.DataFrame):\n",
    "    final_df = pd.DataFrame()\n",
    "    df1 = pd.DataFrame()\n",
    "    df1[parametr] = original_data[parametr]\n",
    "    df1['Data'] = 'Original data'\n",
    "    df1['Probability'] = df1[parametr].apply(lambda x: (df1.groupby(parametr)[parametr].count()[x])/original_data.shape[0])\n",
    "    df2 = pd.DataFrame()\n",
    "    df2[parametr] = data_sampled[parametr]\n",
    "    df2['Data'] = 'Synthetic data'\n",
    "    df2['Probability'] = df2[parametr].apply(lambda x: (df2.groupby(parametr)[parametr].count()[x])/data_sampled.shape[0])\n",
    "    final_df = pd.concat([df1, df2])\n",
    "    sns.barplot(x=parametr, y=\"Probability\", hue=\"Data\", data=final_df)\n",
    "    plt.show()"
   ]
  },
  {
   "cell_type": "code",
   "execution_count": null,
   "metadata": {},
   "outputs": [],
   "source": [
    "# Сэмплинг данных.\n",
    "sampler = BayesianModelSampling(bn)\n",
    "sample = sampler.forward_sample(size=, return_type='dataframe')"
   ]
  },
  {
   "cell_type": "code",
   "execution_count": null,
   "metadata": {},
   "outputs": [],
   "source": [
    "# Построение гистограммы сравнения.\n",
    "draw_comparative_hist('Evaporation',transformed_data,sample)"
   ]
  },
  {
   "source": [
    "Шаг 5. Построить байесовскую сеть для выбранного набора переменных методами структурного обучения на более широком наборе признаков и обучить распределения в узлах с использованием одного из предложенных алгоритмов. "
   ],
   "cell_type": "markdown",
   "metadata": {}
  },
  {
   "cell_type": "code",
   "execution_count": null,
   "metadata": {},
   "outputs": [],
   "source": [
    "transformed_data = copy(new_df)\n",
    "est = KBinsDiscretizer(n_bins=5, encode='ordinal', strategy='kmeans')\n",
    "data_discrete = est.fit_transform(new_df.values[:,0:3])\n",
    "transformed_data[['Temp3pm','Evaporation','Sunshine']] = data_discrete"
   ]
  },
  {
   "cell_type": "code",
   "execution_count": null,
   "metadata": {},
   "outputs": [],
   "source": [
    "hc = HillClimbSearch(transformed_data, scoring_method=K2Score(transformed_data))"
   ]
  },
  {
   "cell_type": "code",
   "execution_count": null,
   "metadata": {},
   "outputs": [],
   "source": [
    "best_model = hc.estimate()"
   ]
  },
  {
   "cell_type": "code",
   "execution_count": null,
   "metadata": {},
   "outputs": [],
   "source": [
    "G_K2 = nx.DiGraph()\n",
    "G_K2.add_edges_from(best_model.edges())\n",
    "pos = nx.layout.circular_layout(G_K2)\n",
    "nx.draw(G_K2, pos, with_labels=True,font_weight='bold')"
   ]
  },
  {
   "cell_type": "code",
   "execution_count": null,
   "metadata": {},
   "outputs": [],
   "source": [
    "blacklist = [(x, y) for x in transformed_data.columns.to_list() for y in ['WindGustSpeed', 'Temp3pm'] if x != y]\n",
    "best_model_new = hc.estimate(black_list=blacklist)"
   ]
  },
  {
   "source": [
    "\n",
    "Шаг 6. Проанализировать качество семплируемой целевой переменной в контексте постановки задачи (предсказание)."
   ],
   "cell_type": "markdown",
   "metadata": {}
  },
  {
   "cell_type": "code",
   "execution_count": null,
   "metadata": {},
   "outputs": [],
   "source": [
    "hc_BicScore = HillClimbSearch(transformed_data, scoring_method=BicScore(transformed_data))\n",
    "best_model_BicScore = hc_BicScore.estimate(black_list=blacklist)"
   ]
  },
  {
   "cell_type": "code",
   "execution_count": null,
   "metadata": {},
   "outputs": [],
   "source": [
    "G_BicScore = nx.DiGraph()\n",
    "G_BicScore.add_edges_from(best_model_BicScore.edges())\n",
    "pos = nx.layout.circular_layout(G_BicScore)\n",
    "nx.draw(G_BicScore, pos, with_labels=True,font_weight='bold')"
   ]
  },
  {
   "cell_type": "code",
   "execution_count": null,
   "metadata": {},
   "outputs": [],
   "source": [
    "def sampling (bn: DAG, data: pd.DataFrame, n: int = 100):\n",
    "    bn_new = BayesianModel(bn.edges())\n",
    "    bn_new.fit(data)\n",
    "    sampler = BayesianModelSampling(bn_new)\n",
    "    sample = sampler.forward_sample(size=n, return_type='dataframe')\n",
    "    return sample"
   ]
  },
  {
   "cell_type": "code",
   "execution_count": null,
   "metadata": {},
   "outputs": [],
   "source": [
    "sample_Bic = sampling(best_model_BicScore, transformed_data, 46193)"
   ]
  },
  {
   "cell_type": "code",
   "execution_count": null,
   "metadata": {},
   "outputs": [],
   "source": [
    "sns.distplot(new_df['Evaporation'], label='Original data')\n",
    "sns.distplot(sample_Bic['Evaporation'], label='Generated data')\n",
    "plt.legend()"
   ]
  },
  {
   "cell_type": "code",
   "execution_count": null,
   "metadata": {},
   "outputs": [],
   "source": [
    "sample_k2 = sampling(best_model_new, transformed_data, 46193)"
   ]
  },
  {
   "cell_type": "code",
   "execution_count": null,
   "metadata": {},
   "outputs": [],
   "source": [
    "draw_comparative_hist('Evaporation',transformed_data,sample_Bic)"
   ]
  },
  {
   "cell_type": "code",
   "execution_count": null,
   "metadata": {},
   "outputs": [],
   "source": [
    "draw_comparative_hist('Evaporation',transformed_data,sample_k2)"
   ]
  },
  {
   "cell_type": "code",
   "execution_count": null,
   "metadata": {},
   "outputs": [],
   "source": []
  }
 ]
}