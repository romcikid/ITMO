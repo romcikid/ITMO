{
 "metadata": {
  "language_info": {
   "codemirror_mode": {
    "name": "ipython",
    "version": 3
   },
   "file_extension": ".py",
   "mimetype": "text/x-python",
   "name": "python",
   "nbconvert_exporter": "python",
   "pygments_lexer": "ipython3",
   "version": "3.7.5"
  },
  "orig_nbformat": 2,
  "kernelspec": {
   "name": "python3",
   "display_name": "Python 3.7.5 64-bit"
  },
  "metadata": {
   "interpreter": {
    "hash": "5247e45f55a724347f31ab43ea75ee4f523c78b9ed6e2d1c62d227887969829b"
   }
  },
  "interpreter": {
   "hash": "5247e45f55a724347f31ab43ea75ee4f523c78b9ed6e2d1c62d227887969829b"
  }
 },
 "nbformat": 4,
 "nbformat_minor": 2,
 "cells": [
  {
   "cell_type": "code",
   "execution_count": null,
   "metadata": {},
   "outputs": [],
   "source": [
    "import matplotlib.pyplot as plt\n",
    "import networkx as nx\n",
    "from networkx.drawing.nx_agraph import graphviz_layout\n",
    "import numpy as np\n",
    "import pandas as pd\n",
    "from pgmpy.models import BayesianModel\n",
    "from pgmpy.estimators import BDeuScore, K2Score, BicScore\n",
    "from pgmpy.estimators import PC, HillClimbSearch, MmhcEstimator\n",
    "import seaborn as sns\n",
    "import sklearn\n",
    "from sklearn import preprocessing\n",
    "from sklearn.model_selection import *\n",
    "from sklearn.metrics import mean_squared_error,accuracy_score\n",
    "from sklearn.preprocessing import KBinsDiscretizer\n",
    "import time\n",
    "import warnings\n",
    "\n",
    "# Игнорирование возникающих предупреждений.\n",
    "warnings.filterwarnings('ignore')"
   ]
  },
  {
   "source": [
    "<h2>Подготовка данных</h2>"
   ],
   "cell_type": "markdown",
   "metadata": {}
  },
  {
   "cell_type": "code",
   "execution_count": null,
   "metadata": {},
   "outputs": [],
   "source": [
    "vk_data = pd.read_csv('./data/vk_interests_finance.csv')\n",
    "vk_data.head()"
   ]
  },
  {
   "cell_type": "code",
   "execution_count": null,
   "metadata": {},
   "outputs": [],
   "source": [
    "# Оставление необходимых столбцов.\n",
    "vk_data = vk_data[['sex', 'relation', 'is_parent', 'has_pets', 'age', 'mean_tr', 'median_tr', 'tr_per_month']]\n",
    "\n",
    "# Получение информации о датасете.\n",
    "vk_data.info()"
   ]
  },
  {
   "cell_type": "code",
   "execution_count": null,
   "metadata": {},
   "outputs": [],
   "source": [
    "vk_data.head()"
   ]
  },
  {
   "cell_type": "code",
   "execution_count": null,
   "metadata": {},
   "outputs": [],
   "source": [
    "# Разделение выборки на тренировочную и тестовую.\n",
    "x_train, x_test = sklearn.model_selection.train_test_split(vk_data, test_size=0.2, random_state=42)"
   ]
  },
  {
   "cell_type": "code",
   "execution_count": null,
   "metadata": {},
   "outputs": [],
   "source": [
    "# Дискретизация непрерывных значений.\n",
    "trainsformed_data = x_train.copy()\n",
    "est = KBinsDiscretizer(n_bins=5, encode='ordinal', strategy='kmeans')\n",
    "data_discrete = est.fit_transform(trainsformed_data.values[:,4:8])\n",
    "trainsformed_data[['age', 'mean_tr',\t'median_tr', 'tr_per_month']] = data_discrete"
   ]
  },
  {
   "cell_type": "code",
   "execution_count": null,
   "metadata": {},
   "outputs": [],
   "source": [
    "# Вывод итоговой тренировочной выборки.\n",
    "trainsformed_data.head()"
   ]
  },
  {
   "cell_type": "code",
   "execution_count": null,
   "metadata": {},
   "outputs": [],
   "source": [
    "# Дискретизация тестовой выборки.\n",
    "testformed_data = x_test.copy()\n",
    "est = KBinsDiscretizer(n_bins=5, encode='ordinal', strategy='kmeans')\n",
    "data_discrete = est.fit_transform(x_test.values[:,4:8])\n",
    "testformed_data[['age', 'mean_tr',\t'median_tr', 'tr_per_month']] = data_discrete"
   ]
  },
  {
   "cell_type": "code",
   "execution_count": null,
   "metadata": {},
   "outputs": [],
   "source": [
    "# Итоговый вид тестовой выборки.\n",
    "testformed_data.head()"
   ]
  },
  {
   "source": [
    "<h2>Построение корреляционной матрицы</h2>"
   ],
   "cell_type": "markdown",
   "metadata": {}
  },
  {
   "cell_type": "code",
   "execution_count": null,
   "metadata": {},
   "outputs": [],
   "source": [
    "#отбор столбцов для построения корреляционной матрицы\n",
    "x_matrix = trainsformed_data\n",
    "\n",
    "#построение диагональной маски\n",
    "mask = np.zeros_like(x_matrix.corr(), dtype=np.bool)\n",
    "mask[np.triu_indices_from(mask)] = True\n",
    "\n",
    "f, ax = plt.subplots(figsize=(10, 10))\n",
    "\n",
    "sns.heatmap(x_matrix.corr(), mask = mask, annot=True, fmt= '.1f', ax = ax, cmap = 'Blues')"
   ]
  },
  {
   "source": [
    "<h2>Hill Climb Search</h2>"
   ],
   "cell_type": "markdown",
   "metadata": {}
  },
  {
   "cell_type": "code",
   "execution_count": null,
   "metadata": {},
   "outputs": [],
   "source": [
    "hc = HillClimbSearch(trainsformed_data)"
   ]
  },
  {
   "source": [
    "<h2>PC algorithm</h2>"
   ],
   "cell_type": "markdown",
   "metadata": {}
  },
  {
   "cell_type": "code",
   "execution_count": null,
   "metadata": {},
   "outputs": [],
   "source": [
    "pc = PC(trainsformed_data)"
   ]
  },
  {
   "source": [],
   "cell_type": "markdown",
   "metadata": {}
  },
  {
   "cell_type": "code",
   "execution_count": null,
   "metadata": {},
   "outputs": [],
   "source": [
    "# Создание списка оценок для hill-climbing.\n",
    "scores = ['k2score', 'bdeuscore', 'bicscore']\n",
    "\n",
    "# Создание списка методов структурного обучения.\n",
    "methods = ['HC + K2', 'HC + BDeu', 'HC + BIC', 'PC']\n",
    "\n",
    "# Создание списка моделей.\n",
    "models = []"
   ]
  },
  {
   "source": [
    "<h3>Получения трех разных моделей путем смешения hill-climbing и трех методов оценок + моделей PC алгоритма</h3>"
   ],
   "cell_type": "markdown",
   "metadata": {}
  },
  {
   "cell_type": "code",
   "execution_count": null,
   "metadata": {},
   "outputs": [],
   "source": [
    "for score in scores:\n",
    "    tic = time.time()\n",
    "    models.append(hc.estimate(scoring_method=score))\n",
    "    print('\\n\\n HC + Оценка: ',  score, '. Время выполнения: ', time.time()-tic)"
   ]
  },
  {
   "source": [
    "<h2>Проверка построенных структур данных</h2>"
   ],
   "cell_type": "markdown",
   "metadata": {}
  },
  {
   "cell_type": "code",
   "execution_count": null,
   "metadata": {},
   "outputs": [],
   "source": [
    "G_K = nx.DiGraph()\n",
    "G_K.add_edges_from(models[0].edges())\n",
    "pos = nx.layout.circular_layout(G_K)\n",
    "nx.draw(G_K, pos, node_size=10, font_size=10, with_labels=True, font_weight='bold')"
   ]
  },
  {
   "cell_type": "code",
   "execution_count": null,
   "metadata": {},
   "outputs": [],
   "source": [
    "G_K = nx.DiGraph()\n",
    "G_K.add_edges_from(models[1].edges())\n",
    "pos = nx.layout.circular_layout(G_K)\n",
    "nx.draw(G_K, pos, node_size=10, font_size=10, with_labels=True, font_weight='bold')"
   ]
  },
  {
   "cell_type": "code",
   "execution_count": null,
   "metadata": {},
   "outputs": [],
   "source": [
    "G_K = nx.DiGraph()\n",
    "G_K.add_edges_from(models[2].edges())\n",
    "pos = nx.layout.circular_layout(G_K)\n",
    "nx.draw(G_K, pos, node_size=10, font_size=10, with_labels=True, font_weight='bold')"
   ]
  },
  {
   "source": [
    "<h3>Создание моделей байесовских сетей</h3>"
   ],
   "cell_type": "markdown",
   "metadata": {}
  },
  {
   "cell_type": "code",
   "execution_count": null,
   "metadata": {},
   "outputs": [],
   "source": [
    "# Создание списка байесовских сетей.\n",
    "bns = []\n",
    "\n",
    "for i in range(len(models)):\n",
    "    bns.append(BayesianModel(models[i].edges()))"
   ]
  },
  {
   "source": [
    "<h3>Обучение</h3>"
   ],
   "cell_type": "markdown",
   "metadata": {}
  },
  {
   "cell_type": "code",
   "execution_count": null,
   "metadata": {},
   "outputs": [],
   "source": [
    "for i in range(len(bns)):\n",
    "    tic = time.time()\n",
    "    bns[i].fit(trainsformed_data)\n",
    "    print('\\n\\n Hill-climb + Оценка: ',  scores[i], '. Время выполнения: ', time.time()-tic)"
   ]
  },
  {
   "source": [
    "<h2>Тестирование</h2>"
   ],
   "cell_type": "markdown",
   "metadata": {}
  },
  {
   "cell_type": "code",
   "execution_count": null,
   "metadata": {
    "tags": []
   },
   "outputs": [],
   "source": [
    "i = 0\n",
    "times = []\n",
    "\n",
    "# Запуск цикла для удаления и восстановления каждого параметра.\n",
    "for column in testformed_data.columns:\n",
    "    mis_data = testformed_data.drop(columns=[column])\n",
    "\n",
    "    print('\\n Потерян: ', column, '\\n')\n",
    "\n",
    "    for j in range(len(bns)):\n",
    "        # Заполнение пропусков в сетях.\n",
    "        tic = time.time()\n",
    "        result_data = bns[j].predict(mis_data)\n",
    "        print('\\n\\n', methods[j], 'Время выполнения: ', time.time()-tic)\n",
    "        times.append(time.time()-tic)\n",
    "\n",
    "        result_data.reset_index(drop=True, inplace=True)\n",
    "        testformed_data.reset_index(drop=True, inplace=True)\n",
    "\n",
    "        # Проверка типа утеряного параметра.\n",
    "        if vk_data[column].dtypes == 'object':\n",
    "            regime = le[i].inverse_transform(result_data.values.astype(int))\n",
    "                \n",
    "            # Сравнение категориальных признаков.\n",
    "            print('\\n Accuracy: ', accuracy_score(x_test[column], regime), '\\n')\n",
    "\n",
    "        else:\n",
    "            parameters = ['age', 'mean_tr',\t'median_tr', 'tr_per_month']\n",
    "            if column in parameters:\n",
    "                concat_data = testformed_data[parameters]\n",
    "                concat_data[column] = result_data[column]\n",
    "\n",
    "                porosity = est.inverse_transform(concat_data)\n",
    "                check_data = pd.DataFrame(data=porosity, columns=parameters)\n",
    "                \n",
    "            else:\n",
    "                check_data = result_data\n",
    "\n",
    "        # Подсчет среднеквадратической ошибки.\n",
    "        print('\\n Среднеквадратическая ошибка: ', mean_squared_error(check_data[column], x_test[column], squared=False), '\\n')\n",
    "    \n",
    "    if vk_data[column].dtypes == 'object':\n",
    "        i += 1"
   ]
  },
  {
   "cell_type": "code",
   "execution_count": null,
   "metadata": {},
   "outputs": [],
   "source": [
    "times_K2 = []\n",
    "times_BDeu = []\n",
    "times_BIC = []\n",
    "\n",
    "for i in range(0,len(times)-2,3):\n",
    "    times_K2.append(times[i])\n",
    "    times_BDeu.append(times[i+1])\n",
    "    times_BIC.append(times[i+2])"
   ]
  },
  {
   "cell_type": "code",
   "execution_count": null,
   "metadata": {},
   "outputs": [],
   "source": [
    "print(\"\\n Среднее время предсказания HC+K2: \", np.mean(times_K2), \"\\n\")\n",
    "print(\"\\n Среднее время предсказания HC+BDeu: \",np.mean(times_BDeu), \"\\n\")\n",
    "print(\"\\n Среднее время предсказания HC+BIC: \",np.mean(times_BIC), \"\\n\")"
   ]
  },
  {
   "cell_type": "code",
   "execution_count": null,
   "metadata": {},
   "outputs": [],
   "source": []
  }
 ]
}