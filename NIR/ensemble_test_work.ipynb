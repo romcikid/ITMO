{
 "metadata": {
  "language_info": {
   "codemirror_mode": {
    "name": "ipython",
    "version": 3
   },
   "file_extension": ".py",
   "mimetype": "text/x-python",
   "name": "python",
   "nbconvert_exporter": "python",
   "pygments_lexer": "ipython3",
   "version": "3.7.5"
  },
  "orig_nbformat": 2,
  "kernelspec": {
   "name": "python3",
   "display_name": "Python 3.7.5 64-bit"
  },
  "metadata": {
   "interpreter": {
    "hash": "5247e45f55a724347f31ab43ea75ee4f523c78b9ed6e2d1c62d227887969829b"
   }
  },
  "interpreter": {
   "hash": "5247e45f55a724347f31ab43ea75ee4f523c78b9ed6e2d1c62d227887969829b"
  }
 },
 "nbformat": 4,
 "nbformat_minor": 2,
 "cells": [
  {
   "cell_type": "code",
   "execution_count": null,
   "metadata": {},
   "outputs": [],
   "source": [
    "# Импортирование необходимых библиотек.\n",
    "import matplotlib.pyplot as plt\n",
    "import networkx as nx\n",
    "from networkx.drawing.nx_agraph import graphviz_layout\n",
    "import numpy as np\n",
    "import pandas as pd\n",
    "from pgmpy.models import BayesianModel\n",
    "from pgmpy.estimators import BDeuScore, K2Score, BicScore\n",
    "from pgmpy.estimators import HillClimbSearch\n",
    "import seaborn as sns\n",
    "import sklearn\n",
    "from sklearn import preprocessing\n",
    "from sklearn.model_selection import *\n",
    "from sklearn.metrics import mean_squared_error,accuracy_score\n",
    "from sklearn.preprocessing import KBinsDiscretizer\n",
    "import time\n",
    "import warnings\n",
    "\n",
    "# Игнорирование возникающих предупреждений.\n",
    "warnings.filterwarnings('ignore')"
   ]
  },
  {
   "cell_type": "code",
   "execution_count": null,
   "metadata": {},
   "outputs": [],
   "source": [
    "# Загрузка датасета.\n",
    "data = pd.read_csv('./data/vk_interests_finance.csv')\n",
    "data.head()"
   ]
  },
  {
   "cell_type": "code",
   "execution_count": null,
   "metadata": {},
   "outputs": [],
   "source": [
    "# Оставление необходимых столбцов.\n",
    "data = data[['sex', 'relation', 'is_parent', 'has_pets', 'age', 'mean_tr', 'median_tr', 'tr_per_month']]\n",
    "\n",
    "# Получение информации о датасете.\n",
    "data.info()"
   ]
  },
  {
   "cell_type": "code",
   "execution_count": null,
   "metadata": {},
   "outputs": [],
   "source": [
    "# Вывод оставшегося датасета.\n",
    "data.head()"
   ]
  },
  {
   "cell_type": "code",
   "execution_count": null,
   "metadata": {},
   "outputs": [],
   "source": [
    "# Дискретизация непрерывных значений датасета.\n",
    "vk_data = data.copy()\n",
    "est = KBinsDiscretizer(n_bins=5, encode='ordinal', strategy='kmeans')\n",
    "data_discrete = est.fit_transform(vk_data.values[:,4:8])\n",
    "vk_data[['age', 'mean_tr',\t'median_tr', 'tr_per_month']] = data_discrete"
   ]
  },
  {
   "cell_type": "code",
   "execution_count": null,
   "metadata": {},
   "outputs": [],
   "source": [
    "vk_data.head()"
   ]
  },
  {
   "cell_type": "code",
   "execution_count": null,
   "metadata": {},
   "outputs": [],
   "source": [
    "# Функция для получения структуры байесовской сети.\n",
    "def BNS(d: pd.DataFrame, score: str = 'bdeuscore'):\n",
    "    hc = HillClimbSearch(d)\n",
    "    model = hc.estimate(scoring_method=score)\n",
    "    bn = BayesianModel(model.edges())\n",
    "\n",
    "    return bn"
   ]
  },
  {
   "cell_type": "code",
   "execution_count": null,
   "metadata": {},
   "outputs": [],
   "source": [
    "# Функция для рассчета среднего размера Марковского одеяла.\n",
    "def AMBS(bn: BayesianModel):\n",
    "    markov_blankets = []\n",
    "    for node in bn.nodes():\n",
    "        markov_blankets.append(len(bn.get_markov_blanket(node)))\n",
    "\n",
    "    AMBS = sum(markov_blankets)/len(markov_blankets)\n",
    "\n",
    "    return AMBS"
   ]
  },
  {
   "cell_type": "code",
   "execution_count": null,
   "metadata": {},
   "outputs": [],
   "source": [
    "# Функция для рассчета силы связи.\n",
    "def ES(d: pd.DataFrame, bn: BayesianModel):\n",
    "    ES = BDeuScore(d).score(bn) / (d.shape[0] * len(bn.edges()))\n",
    "\n",
    "    return ES"
   ]
  },
  {
   "cell_type": "code",
   "execution_count": null,
   "metadata": {},
   "outputs": [],
   "source": [
    "# Функция для разделения датасета на слайсы.\n",
    "def slice_me_nice(d: pd.DataFrame):\n",
    "    # Параметры для рассчета размера слайсов:\n",
    "    # лучший средний размер марковского одеяла.\n",
    "    bestAMBS = 1\n",
    "    \n",
    "    # лучший показатель силы связи.\n",
    "    bestES = -1\n",
    "\n",
    "    # шаг.\n",
    "    step = 0\n",
    "\n",
    "    # Изначальный размер разбиения.\n",
    "    sliceSize = 1 * vk_data.shape[1]\n",
    "\n",
    "    # Первые sliceSize строк из датасета.\n",
    "    d_sliced = d[:sliceSize].copy()\n",
    "\n",
    "    print(len(d_sliced))\n",
    "\n",
    "    # Получение структуры байесовской сети.\n",
    "    BN = BNS(d_sliced)\n",
    "\n",
    "    # Рассчет текущего среднего размера Марковского одеяла.   \n",
    "    currentAMBS = AMBS(BN)\n",
    "\n",
    "    # Рассчет текущего значения силы связи.\n",
    "    currentES = ES(d_sliced, BN)\n",
    "\n",
    "    # Количество шагов цикла.\n",
    "    mstep = 100\n",
    "\n",
    "    # ТОчности \n",
    "\n",
    "    # Для 8 слайсов \n",
    "    # # - для AMBS;\n",
    "    e1 = 0.5\n",
    "\n",
    "    # # - для ES.\n",
    "    e2 = 0.05\n",
    "\n",
    "    # Для 16 слайсов \n",
    "    # # - для AMBS;\n",
    "   # e1 = 0.5\n",
    "\n",
    "    # # - для ES.\n",
    "    #e2 = 0.05\n",
    "\n",
    "    # Запуск цикла для поиска лучших значений AMBS и ES.\n",
    "    while ((step <= mstep) and \n",
    "    ((abs(currentAMBS-bestAMBS)>e1) or \n",
    "    (abs(currentES-bestES)>e2))):\n",
    "        print(step)\n",
    "        sliceSize = sliceSize * 2\n",
    "        bestAMBS = currentAMBS\n",
    "        bestES = currentES\n",
    "        d_sliced = d[:sliceSize].copy()\n",
    "        BN = BNS(d_sliced)\n",
    "        currentAMBS = AMBS(BN)\n",
    "        currentES = ES(d_sliced, BN)\n",
    "        step = step + 1\n",
    "        print(sliceSize, bestAMBS, bestES)\n",
    "        print(abs(currentAMBS-bestAMBS), abs(currentES-bestES))\n",
    "        print(d.shape[0] / (3 * d_sliced.shape[0]))\n",
    "\n",
    "    # Получение достаточного размера датасета для обучения.\n",
    "    ALS = d_sliced.shape[0]\n",
    "    print(d_sliced.shape[0])\n",
    "\n",
    "    # Вычисление числа слоев.\n",
    "    num_d = d.shape[0] / (3 * ALS)\n",
    "\n",
    "    return num_d"
   ]
  },
  {
   "cell_type": "code",
   "execution_count": null,
   "metadata": {},
   "outputs": [],
   "source": [
    "num_d = slice_me_nice(vk_data)"
   ]
  },
  {
   "cell_type": "code",
   "execution_count": null,
   "metadata": {},
   "outputs": [],
   "source": [
    "print('Число слоев: ', num_d)"
   ]
  },
  {
   "cell_type": "code",
   "execution_count": null,
   "metadata": {},
   "outputs": [],
   "source": [
    "# Разделение датасета на слайсы.\n",
    "size = int(len(vk_data) / num_d)-1\n",
    "data_slices = [vk_data.loc[i:i+size-1,:] for i in range(0, len(vk_data),size)]"
   ]
  },
  {
   "cell_type": "code",
   "execution_count": null,
   "metadata": {},
   "outputs": [],
   "source": [
    "print(\"Размер vk_data: \", len(data_slices[0]))"
   ]
  },
  {
   "cell_type": "code",
   "execution_count": null,
   "metadata": {},
   "outputs": [],
   "source": [
    "print(\"Размер последнего слайса: \", len(data_slices[int(num_d)]))"
   ]
  },
  {
   "cell_type": "code",
   "execution_count": null,
   "metadata": {},
   "outputs": [],
   "source": [
    "# Функция для перевода матрицы смежности в байесовскую сеть.\n",
    "def AM_to_BN(am: np.array):\n",
    "    edges = []\n",
    "    nodes = ['sex', 'relation', 'is_parent', 'has_pets', 'age', 'mean_tr', 'median_tr', 'tr_per_month']\n",
    "\n",
    "    for i in range(len(am)):\n",
    "        for j in range(len(am)):\n",
    "            if am[i][j] == 1:\n",
    "                try:\n",
    "                    edges.append((nodes[i], nodes[j]))\n",
    "                    bn = BayesianModel(edges)\n",
    "\n",
    "                except ValueError:\n",
    "                    print('Beware the loop!')\n",
    "    \n",
    "    bn = BayesianModel(edges)\n",
    "\n",
    "    return bn"
   ]
  },
  {
   "cell_type": "code",
   "execution_count": null,
   "metadata": {},
   "outputs": [],
   "source": [
    "# Функция для возвращения матрицы смежности.\n",
    "def AM(bns: BayesianModel):    \n",
    "    try:\n",
    "        nodes = ['sex', 'relation', 'is_parent', 'has_pets', 'age', 'mean_tr', 'median_tr', 'tr_per_month']\n",
    "        matrix = np.zeros((8, 8))\n",
    "        for i in range(len(nodes)):\n",
    "            for j in range(len(nodes)):\n",
    "                if nodes[j] in bns.get_children(nodes[i]):\n",
    "                    matrix[i][j] = 1\n",
    "    \n",
    "    except AttributeError:\n",
    "        matrix = np.zeros((8, 8))\n",
    "        print(type(bns), bns)\n",
    "    \n",
    "    # Для теста.\n",
    "    # print(\"\\n\", matrix, \"\\n\")\n",
    "\n",
    "    return matrix"
   ]
  },
  {
   "cell_type": "code",
   "execution_count": null,
   "metadata": {},
   "outputs": [],
   "source": [
    "# Функция сложения нескольких матриц смежностей в одну.\n",
    "def structure_ensemble(bns, data_slice, t):\n",
    "    am = []\n",
    "    es = []\n",
    "    w = []\n",
    "    wam = []\n",
    "\n",
    "    # Для теста.\n",
    "    # print(\"\\n Количество сетей, поданных на сложение: \", len(bns), \"\\n\")\n",
    "\n",
    "    for bn in bns:\n",
    "        am.append(AM(bn))\n",
    "        es.append(ES(data_slice, bn))\n",
    "\n",
    "    for i in range(len(bns)):\n",
    "        w.append(es[i]/sum(es))\n",
    "        wam.append(am[i] * w[i])\n",
    "\n",
    "    fwam = sum(wam)\n",
    "    y = t * min(w)\n",
    "    bn = fwam.copy()\n",
    "\n",
    "    for i in range(len(fwam)):\n",
    "        for j in range(len(fwam)):\n",
    "            if fwam[i,j] > y:\n",
    "                try:\n",
    "                    bn[i,j] = 1\n",
    "                    AM_to_BN(bn)\n",
    "                except ValueError:\n",
    "                    bn[i,j] = 0\n",
    "                    \n",
    "            else:\n",
    "                bn[i,j] = 0\n",
    "\n",
    "    return bn"
   ]
  },
  {
   "cell_type": "code",
   "execution_count": null,
   "metadata": {},
   "outputs": [],
   "source": [
    "# Функция для \n",
    "def data_slice_learner(data_slice: pd.DataFrame):\n",
    "    bn_hc_bdeu = BNS(data_slice)\n",
    "    print(\"\\n BDeu \\n\", bn_hc_bdeu.edges,  \"\\n\")\n",
    "    bn_hc_k2 = BNS(data_slice, score='k2score')\n",
    "    print(\"\\n k2 \\n\", bn_hc_k2.edges,  \"\\n\")\n",
    "    bn_hc_bic = BNS(data_slice, score='bicscore')\n",
    "    print(\"\\n bic \\n\", bn_hc_bic.edges,  \"\\n\")\n",
    "    print(\"\\n Размер слайса: \", len(data_slice))\n",
    "\n",
    "    bns = [bn_hc_bdeu, bn_hc_k2, bn_hc_bic]\n",
    "    t = 2\n",
    "    bn = structure_ensemble(bns, data_slice, t)\n",
    "\n",
    "    return bn"
   ]
  },
  {
   "cell_type": "code",
   "execution_count": null,
   "metadata": {},
   "outputs": [],
   "source": [
    "# Функция выполгяющая структурное обучение в роли локальноого учителя.\n",
    "def local_learner(data_slices: pd.DataFrame):\n",
    "    es = []\n",
    " \n",
    "    for data_slice in data_slices:\n",
    "        bn_ds = data_slice_learner(data_slice)\n",
    "\n",
    "        print(\"Матрица смежности локального слоя: \\n\", bn_ds, \"\\n\")\n",
    "\n",
    "        bn = AM_to_BN(bn_ds)\n",
    "        es.append(ES(data_slice, bn))\n",
    "\n",
    "    best_ds = max(es)\n",
    "\n",
    "    return [bn_ds, best_ds]"
   ]
  },
  {
   "cell_type": "code",
   "execution_count": null,
   "metadata": {},
   "outputs": [],
   "source": [
    "# Для сложения локальных сетей в глобальную.\n",
    "def global_ensemble(local_structures, best_data_sclice, k=3):\n",
    "    bn_final = structure_ensemble(local_structures, best_data_sclice, k)\n",
    "\n",
    "    print(\"\\nФинальная матрица смежности: \\n\", bn_final, \"\\n\")\n",
    "\n",
    "    raw_labels = ['sex', 'relation', 'is_parent', 'has_pets', 'age', 'mean_tr', 'median_tr', 'tr_per_month']\n",
    "\n",
    "    bn_final = AM_to_BN(bn_final)\n",
    "    G_K = nx.DiGraph()\n",
    "    G_K.add_edges_from(bn_final.edges())\n",
    "    pos = nx.layout.circular_layout(G_K)\n",
    "    nx.draw(G_K, pos, node_size=10, font_size=10, with_labels=True, font_weight='bold')\n",
    "\n",
    "    return bn_final"
   ]
  },
  {
   "cell_type": "code",
   "execution_count": null,
   "metadata": {
    "tags": []
   },
   "outputs": [],
   "source": [
    "# Разделение на локальных учителей.\n",
    "local_structures = []\n",
    "es = []\n",
    "i = 0\n",
    "tic = time.time()\n",
    "for data_slice in data_slices:\n",
    "    if i<int(num_d):\n",
    "        info = local_learner([data_slice.loc[:,:]])\n",
    "        local_structures.append(AM_to_BN(info[0]))\n",
    "        es.append(info[1])\n",
    "    \n",
    "    i = i + 1\n",
    "\n",
    "print(\"\\n\\n Время выполнения: \", time.time()-tic)"
   ]
  },
  {
   "cell_type": "code",
   "execution_count": null,
   "metadata": {},
   "outputs": [],
   "source": [
    "# Слайсы, общий сбор!\n",
    "bn = global_ensemble(local_structures, data_slices[es.index(max(es))], 2*3/3)"
   ]
  },
  {
   "cell_type": "code",
   "execution_count": null,
   "metadata": {},
   "outputs": [],
   "source": [
    "# Разделение выборки на тренировочную и тестовую.\n",
    "data_train, data_test = sklearn.model_selection.train_test_split(data, test_size=0.2, random_state=42)"
   ]
  },
  {
   "cell_type": "code",
   "execution_count": null,
   "metadata": {},
   "outputs": [],
   "source": [
    "est = KBinsDiscretizer(n_bins=5, encode='ordinal', strategy='kmeans')\n",
    "data_discrete = est.fit_transform(data_train.values[:,4:8])\n",
    "data_train[['age', 'mean_tr',\t'median_tr', 'tr_per_month']] = data_discrete"
   ]
  },
  {
   "cell_type": "code",
   "execution_count": null,
   "metadata": {},
   "outputs": [],
   "source": [
    "# Обучение сети.\n",
    "bn.fit(data_train)"
   ]
  },
  {
   "cell_type": "code",
   "execution_count": null,
   "metadata": {},
   "outputs": [],
   "source": [
    "testformed_data = data_test.copy()\n",
    "est = KBinsDiscretizer(n_bins=5, encode='ordinal', strategy='kmeans')\n",
    "data_discrete = est.fit_transform(testformed_data.values[:,4:8])\n",
    "testformed_data[['age', 'mean_tr',\t'median_tr', 'tr_per_month']] = data_discrete"
   ]
  },
  {
   "cell_type": "code",
   "execution_count": null,
   "metadata": {},
   "outputs": [],
   "source": [
    "i = 0\n",
    "times = []\n",
    "\n",
    "# Запуск цикла для удаления и восстановления каждого параметра.\n",
    "for column in testformed_data.columns:\n",
    "    mis_data = testformed_data.drop(columns=[column])\n",
    "\n",
    "    print('\\n Потерян: ', column, '\\n')\n",
    "\n",
    "    # Заполнение пропусков в сетях.\n",
    "    tic = time.time()\n",
    "    result_data = bn.predict(mis_data)\n",
    "    print('\\n\\n Время выполнения: ', time.time()-tic)\n",
    "    times.append(time.time()-tic)\n",
    "\n",
    "    result_data.reset_index(drop=True, inplace=True)\n",
    "    testformed_data.reset_index(drop=True, inplace=True)\n",
    "\n",
    "    # Проверка типа утеряного параметра.\n",
    "    if vk_data[column].dtypes == 'object':\n",
    "        regime = le[i].inverse_transform(result_data.values.astype(int))\n",
    "            \n",
    "        # Сравнение категориальных признаков.\n",
    "        print('\\n Accuracy: ', accuracy_score(x_test[column], regime), '\\n')\n",
    "\n",
    "    else:\n",
    "        parameters = ['age', 'mean_tr',\t'median_tr', 'tr_per_month']\n",
    "        if column in parameters:\n",
    "            concat_data = testformed_data[parameters]\n",
    "            concat_data[column] = result_data[column]\n",
    "\n",
    "            porosity = est.inverse_transform(concat_data)\n",
    "            check_data = pd.DataFrame(data=porosity, columns=parameters)\n",
    "            \n",
    "        else:\n",
    "            check_data = result_data\n",
    "\n",
    "        # Подсчет среднеквадратической ошибки.\n",
    "        print('\\n Среднеквадратическая ошибка: ', mean_squared_error(result_data[column], data_test[column], squared=False), '\\n')\n",
    "    \n",
    "    if vk_data[column].dtypes == 'object':\n",
    "        i += 1"
   ]
  },
  {
   "cell_type": "code",
   "execution_count": null,
   "metadata": {},
   "outputs": [],
   "source": [
    "# Среднее время предсказания.\n",
    "print(\"\\n Среднее время предсказания: \", np.mean(times), \"\\n\")"
   ]
  },
  {
   "cell_type": "code",
   "execution_count": null,
   "metadata": {},
   "outputs": [],
   "source": [
    "hc = HillClimbSearch(data_train)"
   ]
  },
  {
   "cell_type": "code",
   "execution_count": null,
   "metadata": {},
   "outputs": [],
   "source": [
    "# Создание списка оценок для hill-climbing.\n",
    "scores = ['k2score', 'bdeuscore', 'bicscore']\n",
    "\n",
    "# Создание списка методов структурного обучения.\n",
    "methods = ['HC + K2', 'HC + BDeu', 'HC + BIC']\n",
    "\n",
    "# Создание списка моделей.\n",
    "models = []"
   ]
  },
  {
   "cell_type": "code",
   "execution_count": null,
   "metadata": {},
   "outputs": [],
   "source": [
    "# Создание структур.\n",
    "for score in scores:\n",
    "    tic = time.time()\n",
    "    models.append(hc.estimate(scoring_method=score))\n",
    "    print('\\n\\n HC + Оценка: ',  score, '. Время выполнения: ', time.time()-tic)"
   ]
  },
  {
   "cell_type": "code",
   "execution_count": null,
   "metadata": {},
   "outputs": [],
   "source": [
    "# Создание списка байесовских сетей.\n",
    "bns = []\n",
    "\n",
    "for i in range(len(models)):\n",
    "    bns.append(BayesianModel(models[i].edges()))"
   ]
  },
  {
   "cell_type": "code",
   "execution_count": null,
   "metadata": {},
   "outputs": [],
   "source": [
    "# Обучение байесовских сетей.\n",
    "for i in range(len(bns)):\n",
    "    tic = time.time()\n",
    "    bns[i].fit(data_test)\n",
    "    print('\\n\\n Hill-climb + Оценка: ',  scores[i], '. Время выполнения: ', time.time()-tic)"
   ]
  },
  {
   "cell_type": "code",
   "execution_count": null,
   "metadata": {},
   "outputs": [],
   "source": [
    "# Тестирование - заполнение пропусков.\n",
    "\n",
    "i = 0\n",
    "times = []\n",
    "\n",
    "# Запуск цикла для удаления и восстановления каждого параметра.\n",
    "for column in testformed_data.columns:\n",
    "    mis_data = testformed_data.drop(columns=[column])\n",
    "\n",
    "    print('\\n Потерян: ', column, '\\n')\n",
    "\n",
    "    for j in range(len(bns)):\n",
    "        # Заполнение пропусков в сетях.\n",
    "        tic = time.time()\n",
    "        result_data = bns[j].predict(mis_data)\n",
    "        print('\\n\\n', methods[j], 'Время выполнения: ', time.time()-tic)\n",
    "        times.append(time.time()-tic)\n",
    "\n",
    "        result_data.reset_index(drop=True, inplace=True)\n",
    "        testformed_data.reset_index(drop=True, inplace=True)\n",
    "\n",
    "        # Проверка типа утеряного параметра.\n",
    "        if vk_data[column].dtypes == 'object':\n",
    "            regime = le[i].inverse_transform(result_data.values.astype(int))\n",
    "                \n",
    "            # Сравнение категориальных признаков.\n",
    "            print('\\n Accuracy: ', accuracy_score(x_test[column], regime), '\\n')\n",
    "\n",
    "        else:\n",
    "            parameters = ['age', 'mean_tr',\t'median_tr', 'tr_per_month']\n",
    "            if column in parameters:\n",
    "                concat_data = testformed_data[parameters]\n",
    "                concat_data[column] = result_data[column]\n",
    "\n",
    "                porosity = est.inverse_transform(concat_data)\n",
    "                check_data = pd.DataFrame(data=porosity, columns=parameters)\n",
    "                \n",
    "            else:\n",
    "                check_data = result_data\n",
    "\n",
    "        # Подсчет среднеквадратической ошибки.\n",
    "        print('\\n Среднеквадратическая ошибка: ', mean_squared_error(check_data[column], x_test[column], squared=False), '\\n')\n",
    "    \n",
    "    if vk_data[column].dtypes == 'object':\n",
    "        i += 1"
   ]
  },
  {
   "cell_type": "code",
   "execution_count": null,
   "metadata": {},
   "outputs": [],
   "source": [
    "times_K2 = []\n",
    "times_BDeu = []\n",
    "times_BIC = []\n",
    "\n",
    "for i in range(0,len(times)-2,3):\n",
    "    times_K2.append(times[i])\n",
    "    times_BDeu.append(times[i+1])\n",
    "    times_BIC.append(times[i+2])"
   ]
  },
  {
   "cell_type": "code",
   "execution_count": null,
   "metadata": {},
   "outputs": [],
   "source": [
    "print(\"\\n Среднее время предсказания HC+K2: \", np.mean(times_K2), \"\\n\")\n",
    "print(\"\\n Среднее время предсказания HC+BDeu: \",np.mean(times_BDeu), \"\\n\")\n",
    "print(\"\\n Среднее время предсказания HC+BIC: \",np.mean(times_BIC), \"\\n\")"
   ]
  },
  {
   "cell_type": "code",
   "execution_count": null,
   "metadata": {},
   "outputs": [],
   "source": []
  }
 ]
}