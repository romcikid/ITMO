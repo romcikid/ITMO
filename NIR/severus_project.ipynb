{
 "metadata": {
  "language_info": {
   "codemirror_mode": {
    "name": "ipython",
    "version": 3
   },
   "file_extension": ".py",
   "mimetype": "text/x-python",
   "name": "python",
   "nbconvert_exporter": "python",
   "pygments_lexer": "ipython3",
   "version": "3.7.5-final"
  },
  "orig_nbformat": 2,
  "kernelspec": {
   "name": "python3",
   "display_name": "Python 3.7.5 64-bit",
   "metadata": {
    "interpreter": {
     "hash": "5247e45f55a724347f31ab43ea75ee4f523c78b9ed6e2d1c62d227887969829b"
    }
   }
  }
 },
 "nbformat": 4,
 "nbformat_minor": 2,
 "cells": [
  {
   "source": [
    "Подлючение необходимых библиотек."
   ],
   "cell_type": "markdown",
   "metadata": {}
  },
  {
   "cell_type": "code",
   "execution_count": null,
   "metadata": {},
   "outputs": [],
   "source": [
    "import matplotlib.pyplot as plt\n",
    "import networkx as nx\n",
    "from networkx.drawing.nx_agraph import graphviz_layout\n",
    "import numpy as np\n",
    "import pandas as pd\n",
    "from pgmpy.models import BayesianModel\n",
    "from pgmpy.estimators import BDeuScore, K2Score, BicScore\n",
    "from pgmpy.estimators import PC,HillClimbSearch\n",
    "from pomegranate import *\n",
    "import seaborn as sns\n",
    "import sklearn\n",
    "from sklearn import preprocessing\n",
    "from sklearn.model_selection import *\n",
    "from sklearn.preprocessing import KBinsDiscretizer\n",
    "import time"
   ]
  },
  {
   "source": [
    "<h2>Подготовка данных</h2>\n",
    "\n",
    "Считывание изначального датасета."
   ],
   "cell_type": "markdown",
   "metadata": {}
  },
  {
   "cell_type": "code",
   "execution_count": null,
   "metadata": {},
   "outputs": [],
   "source": [
    "stud_data = pd.read_csv('dataset.csv')\n",
    "stud_data.head()"
   ]
  },
  {
   "source": [
    "Разделение датасета на тренировочнуд и тестовую выборки."
   ],
   "cell_type": "markdown",
   "metadata": {}
  },
  {
   "cell_type": "code",
   "execution_count": null,
   "metadata": {},
   "outputs": [],
   "source": [
    "x_train, x_test= sklearn.model_selection.train_test_split(stud_data, test_size=0.13, random_state=42)"
   ]
  },
  {
   "source": [
    "Вывод тренировочной выборки."
   ],
   "cell_type": "markdown",
   "metadata": {}
  },
  {
   "cell_type": "code",
   "execution_count": null,
   "metadata": {},
   "outputs": [],
   "source": [
    "print(x_train)"
   ]
  },
  {
   "source": [
    "Вывод тестовой выборки."
   ],
   "cell_type": "markdown",
   "metadata": {}
  },
  {
   "cell_type": "code",
   "execution_count": null,
   "metadata": {},
   "outputs": [],
   "source": [
    "print(x_test)"
   ]
  },
  {
   "source": [
    "Преобразование категориальных параметров в числовые."
   ],
   "cell_type": "markdown",
   "metadata": {}
  },
  {
   "cell_type": "code",
   "execution_count": null,
   "metadata": {},
   "outputs": [],
   "source": [
    "for column in ['Name', 'Teacher']:\n",
    "     lee = preprocessing.LabelEncoder()\n",
    "     x_train[column] = lee.fit_transform(x_train[column].astype(str))\n",
    "\n",
    "x_train.head()"
   ]
  },
  {
   "source": [
    "Дискретизация непрерывных значений тренировочной выборки."
   ],
   "cell_type": "markdown",
   "metadata": {}
  },
  {
   "cell_type": "code",
   "execution_count": null,
   "metadata": {},
   "outputs": [],
   "source": [
    "trainsformed_data = x_train.copy()\n",
    "est = KBinsDiscretizer(n_bins=5, encode='ordinal', strategy='kmeans')\n",
    "# data_discrete = est.fit_transform(x_test.values[:,[1,2,3,4,5,6,7,8,9,11,12]])\n",
    "# testformed_data[[\"Danger\", \"Magician level\", \"Remarks\", \"Scores\", \"Absenses\", \"Lupin coef\", \"Quidditch\", \"Disease\", \"Beans\", \"StickLevel\", \"Volan-De-Mort\"]] = data_discrete\n",
    "data_discrete = est.fit_transform(x_train.values[:,[6,8]])\n",
    "trainsformed_data[[\"Lupin coef\", \"Disease\"]] = data_discrete"
   ]
  },
  {
   "cell_type": "code",
   "execution_count": null,
   "metadata": {},
   "outputs": [],
   "source": [
    "trainsformed_data.head()"
   ]
  },
  {
   "source": [
    "Подготовка выборки с пропущенными значениями (тестовая выборка)."
   ],
   "cell_type": "markdown",
   "metadata": {}
  },
  {
   "source": [
    "Дискретизация непрерывных значений тестовой выборки."
   ],
   "cell_type": "markdown",
   "metadata": {}
  },
  {
   "cell_type": "code",
   "execution_count": null,
   "metadata": {},
   "outputs": [],
   "source": [
    "testformed_data = x_test.copy()\n",
    "est = KBinsDiscretizer(n_bins=5, encode='ordinal', strategy='kmeans')\n",
    "# data_discrete = est.fit_transform(x_test.values[:,[1,2,3,4,5,6,7,8,9,11,12]])\n",
    "# testformed_data[[\"Danger\", \"Magician level\", \"Remarks\", \"Scores\", \"Absenses\", \"Lupin coef\", \"Quidditch\", \"Disease\", \"Beans\", \"StickLevel\", \"Volan-De-Mort\"]] = data_discrete\n",
    "data_discrete = est.fit_transform(x_test.values[:,[6,8]])\n",
    "testformed_data[[\"Lupin coef\", \"Disease\"]] = data_discrete"
   ]
  },
  {
   "cell_type": "code",
   "execution_count": null,
   "metadata": {},
   "outputs": [],
   "source": [
    "testformed_data.head()"
   ]
  },
  {
   "source": [
    "Преобразование категориального параметра тестовой выборки в числовой."
   ],
   "cell_type": "markdown",
   "metadata": {}
  },
  {
   "cell_type": "code",
   "execution_count": null,
   "metadata": {},
   "outputs": [],
   "source": [
    "leon = 0\n",
    "for column in ['Name', 'Teacher']:\n",
    "     le = preprocessing.LabelEncoder()\n",
    "     if column == 'Name':\n",
    "          leon = le\n",
    "\n",
    "     testformed_data[column] = le.fit_transform(testformed_data[column].astype(str))\n",
    "\n",
    "testformed_data.head()"
   ]
  },
  {
   "cell_type": "code",
   "execution_count": null,
   "metadata": {},
   "outputs": [],
   "source": [
    "mis_data = testformed_data.drop(columns=['Disease'])\n",
    "mis_data.head()"
   ]
  },
  {
   "source": [
    "Основными параметрами выборок были выбраны:\n",
    "\n",
    "1.\tФамилия дежурного преподавателя (категориальный параметр).\n",
    "2.\tИмя студента. Выбирается студент, замеченный профессором ночью в коридоре. Были выбраны завсегдатые ночных прогулок: Гарри, Рон, Гермиона, Фред, Джордж, Джинни, Седрик, Драко, Краббе, Гойл (категориальный параметр).\n",
    "3.\tУровень опасности, угрожающей студенту (дискретный числовой параметр) [Имя студента – родительский параметр].\n",
    "4.\tУровень владения волшебством (измеряется в количестве выученных заклинаний, рецептов зелий) (дискретный числовой параметр) [Уровень волшебной палочки студента – родительский параметр].\n",
    "5.\tКоличество замечаний от профессоров (дискретный числовой параметр) [Деж. преподаватель – родительский параметр].\n",
    "6.\tКоличество очков, заработанных за день (дискретный числовой параметр) [Количество бобов у студентов – родительский параметр].\n",
    "7.\tКоличество пропущенных занятий (дискретный числовой параметр).\n",
    "8.\tКоэффициент Люпина, который придумал профессор Люпин для оценки эффективности работы студентов, зависящий от пропущенных занятий, уровня владения волшебством, заработанных очков и уровня опасности (непрерывный числовой параметр) \n",
    "9.\tКоличество тренировок в квидич. Если студент является одной из команд в квидич, то количество тренировок равно половине пропущенных занятий (дискретный числовой параметр) [Деж. преподаватель – родительский параметр].\n",
    "10.\t Вероятность получения травмы, заболеть (дискретный числовой параметр) [Количество тренировок в квидич, деятельность Волан-Де-Морта, уровень опасности, угрожающей студенту – родительские параметры].\n",
    "11.\t Количество бобов у студентов (дискретный числовой параметр). [Имя студента – родительский параметр].\n",
    "12.\t Уровень волшебной палочки студента (дискретный числовой параметр).\n",
    "13.\t Деятельность Волан-Де-Морта (количество статей в газетах в день) (дискретный числовой параметр)."
   ],
   "cell_type": "markdown",
   "metadata": {}
  },
  {
   "source": [
    "<h2>Построение корреляционной матрицы</h2>"
   ],
   "cell_type": "markdown",
   "metadata": {}
  },
  {
   "cell_type": "code",
   "execution_count": null,
   "metadata": {},
   "outputs": [],
   "source": [
    "#отбор столбцов для построения корреляционной матрицы\n",
    "x_train = trainsformed_data\n",
    "\n",
    "#построение диагональной маски\n",
    "mask = np.zeros_like(x_train.corr(), dtype=np.bool)\n",
    "mask[np.triu_indices_from(mask)] = True\n",
    "\n",
    "f, ax = plt.subplots(figsize=(10, 10))\n",
    "\n",
    "sns.heatmap(x_train.corr(), mask = mask, annot=True, fmt= '.1f', ax = ax, cmap = 'Blues')"
   ]
  },
  {
   "source": [
    "<h2>Hill Climb Search</h2>"
   ],
   "cell_type": "markdown",
   "metadata": {}
  },
  {
   "source": [
    "В сравнении метода hill climbing search исользуются методы оценки:\n",
    "\n",
    "<h3>K2 Score</h3>"
   ],
   "cell_type": "markdown",
   "metadata": {}
  },
  {
   "cell_type": "code",
   "execution_count": null,
   "metadata": {},
   "outputs": [],
   "source": [
    "hc1 = HillClimbSearch(trainsformed_data, scoring_method=K2Score(trainsformed_data))"
   ]
  },
  {
   "source": [
    "<h3>BDeu Score</h3>"
   ],
   "cell_type": "markdown",
   "metadata": {}
  },
  {
   "cell_type": "code",
   "execution_count": null,
   "metadata": {},
   "outputs": [],
   "source": [
    "hc2 = HillClimbSearch(trainsformed_data, scoring_method=BDeuScore(trainsformed_data))"
   ]
  },
  {
   "source": [
    "<h3>Bic Score</h3>"
   ],
   "cell_type": "markdown",
   "metadata": {}
  },
  {
   "cell_type": "code",
   "execution_count": null,
   "metadata": {},
   "outputs": [],
   "source": [
    "hc3 = HillClimbSearch(trainsformed_data, scoring_method=BicScore(trainsformed_data))"
   ]
  },
  {
   "source": [
    "<h2>Оценка структуры данных</h2>"
   ],
   "cell_type": "markdown",
   "metadata": {}
  },
  {
   "cell_type": "code",
   "execution_count": null,
   "metadata": {},
   "outputs": [],
   "source": [
    "tic = time.time()\n",
    "model1 = hc1.estimate()\n",
    "print('\\n Время выполнения: ', time.time()-tic)"
   ]
  },
  {
   "cell_type": "code",
   "execution_count": null,
   "metadata": {},
   "outputs": [],
   "source": [
    "tic = time.time()\n",
    "model2 = hc2.estimate()\n",
    "print('\\n Время выполнения: ', time.time()-tic)"
   ]
  },
  {
   "cell_type": "code",
   "execution_count": null,
   "metadata": {},
   "outputs": [],
   "source": [
    "tic = time.time()\n",
    "model3 = hc3.estimate()\n",
    "print('\\n Время выполнения: ', time.time()-tic)"
   ]
  },
  {
   "source": [
    "<h2>Проверка построенных структур данных</h2>\n",
    "\n",
    "Как выяснилось, они одинаковые :)\n",
    "<h2>Должны быть разные</h2>"
   ],
   "cell_type": "markdown",
   "metadata": {}
  },
  {
   "cell_type": "code",
   "execution_count": null,
   "metadata": {},
   "outputs": [],
   "source": [
    "G_K1 = nx.DiGraph()\n",
    "G_K1.add_edges_from(model1.edges())\n",
    "pos = nx.layout.circular_layout(G_K1)\n",
    "nx.draw(G_K1, pos, node_size=10, font_size=9, with_labels=True,font_weight='bold')"
   ]
  },
  {
   "cell_type": "code",
   "execution_count": null,
   "metadata": {},
   "outputs": [],
   "source": [
    "G_K2 = nx.DiGraph()\n",
    "G_K2.add_edges_from(model2.edges())\n",
    "pos = nx.layout.circular_layout(G_K2)\n",
    "nx.draw(G_K2, pos, node_size=10, font_size=9, with_labels=True,font_weight='bold')"
   ]
  },
  {
   "cell_type": "code",
   "execution_count": null,
   "metadata": {},
   "outputs": [],
   "source": [
    "G_K3 = nx.DiGraph()\n",
    "G_K3.add_edges_from(model3.edges())\n",
    "pos = nx.layout.circular_layout(G_K3)\n",
    "nx.draw(G_K3, pos, node_size=3, font_size=9, with_labels=True,font_weight='bold')"
   ]
  },
  {
   "cell_type": "code",
   "execution_count": null,
   "metadata": {},
   "outputs": [],
   "source": [
    "# Создание байесовской модели.\n",
    "bn1 = BayesianModel(model1.edges())"
   ]
  },
  {
   "cell_type": "code",
   "execution_count": null,
   "metadata": {},
   "outputs": [],
   "source": [
    "# Создание байесовской модели.\n",
    "bn2 = BayesianModel(model2.edges())"
   ]
  },
  {
   "cell_type": "code",
   "execution_count": null,
   "metadata": {},
   "outputs": [],
   "source": [
    "# Создание байесовской модели.\n",
    "bn3 = BayesianModel(model3.edges())"
   ]
  },
  {
   "source": [
    "<h2>Обучение байесовских сетей</h2>"
   ],
   "cell_type": "markdown",
   "metadata": {}
  },
  {
   "cell_type": "code",
   "execution_count": null,
   "metadata": {},
   "outputs": [],
   "source": [
    "tic = time.time()\n",
    "# Обучение байесовской сети.\n",
    "bn1.fit(trainsformed_data)\n",
    "print('\\n Время выполнения: ', time.time()-tic)"
   ]
  },
  {
   "cell_type": "code",
   "execution_count": null,
   "metadata": {},
   "outputs": [],
   "source": [
    "tic = time.time()\n",
    "# Обучение байесовской сети.\n",
    "bn2.fit(trainsformed_data)\n",
    "print('\\n Время выполнения: ', time.time()-tic)"
   ]
  },
  {
   "cell_type": "code",
   "execution_count": null,
   "metadata": {},
   "outputs": [],
   "source": [
    "tic = time.time()\n",
    "# Обучение байесовской сети.\n",
    "bn3.fit(trainsformed_data)\n",
    "print('\\n Время выполнения: ', time.time()-tic)"
   ]
  },
  {
   "source": [
    "<h2>Заполнение пропусков</h2>"
   ],
   "cell_type": "markdown",
   "metadata": {}
  },
  {
   "cell_type": "code",
   "execution_count": null,
   "metadata": {},
   "outputs": [],
   "source": [
    "print(bn1.nodes)"
   ]
  },
  {
   "source": [
    "tic = time.time()\n",
    "# Заполнение пропусков\n",
    "result_data1 = bn1.predict(mis_data)\n",
    "print('\\n Время выполнения: ', time.time()-tic)"
   ],
   "cell_type": "code",
   "metadata": {
    "tags": []
   },
   "execution_count": null,
   "outputs": []
  },
  {
   "cell_type": "code",
   "execution_count": null,
   "metadata": {},
   "outputs": [],
   "source": [
    "tic = time.time()\n",
    "# Заполнение пропусков\n",
    "result_data2 = bn2.predict(mis_data)\n",
    "print('\\n Время выполнения: ', time.time()-tic)"
   ]
  },
  {
   "cell_type": "code",
   "execution_count": null,
   "metadata": {},
   "outputs": [],
   "source": [
    "tic = time.time()\n",
    "# Заполнение пропусков\n",
    "result_data3 = bn3.predict(mis_data)\n",
    "print('\\n Время выполнения: ', time.time()-tic)"
   ]
  },
  {
   "source": [
    "<h2>Проверка предсказанных значений</h2>"
   ],
   "cell_type": "markdown",
   "metadata": {}
  },
  {
   "cell_type": "code",
   "execution_count": null,
   "metadata": {},
   "outputs": [],
   "source": [
    "result_data1.head()"
   ]
  },
  {
   "cell_type": "code",
   "execution_count": null,
   "metadata": {},
   "outputs": [],
   "source": [
    "result_data2.head()"
   ]
  },
  {
   "cell_type": "code",
   "execution_count": null,
   "metadata": {},
   "outputs": [],
   "source": [
    "result_data3.head()"
   ]
  },
  {
   "source": [
    "<h2>Подсчет точности заполнения пропусков сетями</h2>"
   ],
   "cell_type": "markdown",
   "metadata": {}
  },
  {
   "cell_type": "code",
   "execution_count": null,
   "metadata": {},
   "outputs": [],
   "source": [
    "result_data1.reset_index(drop=True, inplace=True)\n",
    "testformed_data.reset_index(drop=True, inplace=True)\n",
    "concat_data = result_data1[['Disease']]\n",
    "concat_data = pd.concat([testformed_data[['Lupin coef']], concat_data],axis=1)"
   ]
  },
  {
   "cell_type": "code",
   "execution_count": null,
   "metadata": {},
   "outputs": [],
   "source": [
    "concat_data.head()"
   ]
  },
  {
   "cell_type": "code",
   "execution_count": null,
   "metadata": {},
   "outputs": [],
   "source": [
    "pair = est.inverse_transform(concat_data)"
   ]
  },
  {
   "cell_type": "code",
   "execution_count": null,
   "metadata": {},
   "outputs": [],
   "source": [
    "print(pair)"
   ]
  },
  {
   "cell_type": "code",
   "execution_count": null,
   "metadata": {
    "tags": [
     "outputPrepend"
    ]
   },
   "outputs": [],
   "source": [
    "import math\n",
    "error = 0\n",
    "for i in range(len(pair)):\n",
    "    print(pair[i,0], x_test.values[i,8])\n",
    "    error += (pair[i,0]-x_test.values[i,8])**2\n",
    "\n",
    "error = math.sqrt(error / len(pair))\n",
    "print('\\n Средневкадратическая ошибка: ', error)"
   ]
  },
  {
   "cell_type": "code",
   "execution_count": null,
   "metadata": {},
   "outputs": [],
   "source": [
    "result_data2.reset_index(drop=True, inplace=True)\n",
    "testformed_data.reset_index(drop=True, inplace=True)\n",
    "concat_data = result_data2[['Disease']]\n",
    "concat_data = pd.concat([testformed_data[['Lupin coef']], concat_data],axis=1)"
   ]
  },
  {
   "cell_type": "code",
   "execution_count": null,
   "metadata": {},
   "outputs": [],
   "source": [
    "concat_data.head()"
   ]
  },
  {
   "cell_type": "code",
   "execution_count": null,
   "metadata": {},
   "outputs": [],
   "source": [
    "porosity = est.inverse_transform(concat_data)"
   ]
  },
  {
   "cell_type": "code",
   "execution_count": null,
   "metadata": {},
   "outputs": [],
   "source": [
    "print(porosity)"
   ]
  },
  {
   "cell_type": "code",
   "execution_count": null,
   "metadata": {
    "tags": [
     "outputPrepend"
    ]
   },
   "outputs": [],
   "source": [
    "import math\n",
    "error = 0\n",
    "for i in range(len(porosity)):\n",
    "    print(porosity[i,1], x_test.values[i,8])\n",
    "    error += (porosity[i,1]-x_test.values[i,8])**2\n",
    "\n",
    "error = math.sqrt(error / len(porosity))\n",
    "print('\\n Средневкадратическая ошибка: ', error)"
   ]
  },
  {
   "cell_type": "code",
   "execution_count": null,
   "metadata": {},
   "outputs": [],
   "source": [
    "result_data3.reset_index(drop=True, inplace=True)\n",
    "testformed_data.reset_index(drop=True, inplace=True)\n",
    "concat_data = result_data3[['Disease']]\n",
    "concat_data = pd.concat([testformed_data[['Lupin coef']], concat_data],axis=1)"
   ]
  },
  {
   "cell_type": "code",
   "execution_count": null,
   "metadata": {},
   "outputs": [],
   "source": [
    "porosity = est.inverse_transform(concat_data)"
   ]
  },
  {
   "cell_type": "code",
   "execution_count": null,
   "metadata": {
    "tags": [
     "outputPrepend"
    ]
   },
   "outputs": [],
   "source": [
    "import math\n",
    "error = 0\n",
    "for i in range(len(porosity)):\n",
    "    print(porosity[i,1], x_test.values[i,8])\n",
    "    error += (porosity[i,1]-x_test.values[i,8])**2\n",
    "\n",
    "error = math.sqrt(error / len(porosity))\n",
    "print('\\n Средневкадратическая ошибка: ', error)"
   ]
  },
  {
   "cell_type": "code",
   "execution_count": null,
   "metadata": {},
   "outputs": [],
   "source": [
    "regime1 = leon.inverse_transform(result_data1.values.astype(int))"
   ]
  },
  {
   "cell_type": "code",
   "execution_count": null,
   "metadata": {},
   "outputs": [],
   "source": [
    "regime2 = leon.inverse_transform(result_data2.values.astype(int))"
   ]
  },
  {
   "cell_type": "code",
   "execution_count": null,
   "metadata": {},
   "outputs": [],
   "source": [
    "regime3 = leun.inverse_transform(result_data3.values[:,1].astype(int))"
   ]
  },
  {
   "cell_type": "code",
   "execution_count": null,
   "metadata": {},
   "outputs": [],
   "source": [
    "def true_false(mis_data: pd.DataFrame, regime: pd.DataFrame):\n",
    "    true, false = 0, 0\n",
    "\n",
    "    for i in range(len(regime)):\n",
    "        print(regime[i], mis_data.values[i,0], regime[i] in mis_data.values[i,0])\n",
    "        if regime[i] in mis_data.values[i,0]:\n",
    "            true += 1\n",
    "        else:\n",
    "            false += 1\n",
    "    \n",
    "    print('Число совпадений: ', true)\n",
    "    print('Число промахов: ', false)\n",
    "    \n",
    "    sns.barplot(x=['True','False'], y=[true, false])\n",
    "    plt.show()"
   ]
  },
  {
   "cell_type": "code",
   "execution_count": null,
   "metadata": {
    "tags": [
     "outputPrepend"
    ]
   },
   "outputs": [],
   "source": [
    "true_false(x_test,regime1)"
   ]
  },
  {
   "cell_type": "code",
   "execution_count": null,
   "metadata": {
    "tags": [
     "outputPrepend"
    ]
   },
   "outputs": [],
   "source": [
    "true_false(x_test,regime2)"
   ]
  },
  {
   "cell_type": "code",
   "execution_count": null,
   "metadata": {},
   "outputs": [],
   "source": [
    "true_false(mis_data,regime3)"
   ]
  },
  {
   "source": [
    "<h2>Нахождение среднего, максимального и минимального времен построения модели</h2>"
   ],
   "cell_type": "markdown",
   "metadata": {}
  },
  {
   "cell_type": "code",
   "execution_count": null,
   "metadata": {
    "tags": []
   },
   "outputs": [],
   "source": [
    "# md_times = []\n",
    "# max_times = []\n",
    "# min_times = []\n",
    "# bn_times = []\n",
    "\n",
    "# for i in range(3):\n",
    "#      bn_times.append([])\n",
    "\n",
    "# for i in range(100):\n",
    "#      tic = time.time()\n",
    "#      bn1.fit(trainsformed_data)\n",
    "#      bn_times[0].append(time.time() - tic)\n",
    "#      tic = time.time()\n",
    "#      bn2.fit(trainsformed_data)\n",
    "#      bn_times[1].append(time.time() - tic)\n",
    "#      tic = time.time()\n",
    "#      bn3.fit(trainsformed_data)\n",
    "#      bn_times[2].append(time.time() - tic)\n",
    "\n",
    "# for i in range(3):\n",
    "#      max_times.append(max(bn_times[i]))\n",
    "#      min_times.append(min(bn_times[i]))\n",
    "#      md_times.append(sum(bn_times[i])/len(bn_times[i]))"
   ]
  },
  {
   "cell_type": "code",
   "execution_count": null,
   "metadata": {},
   "outputs": [],
   "source": [
    "# def give_barplot(var):\n",
    "#      sns.barplot(x=['K2Score','BDeuScore','BicScore'], y=var)\n",
    "#      plt.show()"
   ]
  },
  {
   "cell_type": "code",
   "execution_count": null,
   "metadata": {},
   "outputs": [],
   "source": [
    "# give_barplot(max_times)"
   ]
  },
  {
   "cell_type": "code",
   "execution_count": null,
   "metadata": {},
   "outputs": [],
   "source": [
    "# give_barplot(min_times)"
   ]
  },
  {
   "cell_type": "code",
   "execution_count": null,
   "metadata": {},
   "outputs": [],
   "source": [
    "# give_barplot(md_times)"
   ]
  },
  {
   "source": [
    "<h2>PC algorithm</h2>\n",
    "\n",
    "Не работает, потому что при построении модели куда-то теряется параметр :(\n",
    "\n",
    "<h2>Создание модели</h2>."
   ],
   "cell_type": "markdown",
   "metadata": {}
  },
  {
   "cell_type": "code",
   "execution_count": null,
   "metadata": {},
   "outputs": [],
   "source": [
    "pc = PC(trainsformed_data)"
   ]
  },
  {
   "source": [
    "<h2>Оценка структуры данных</h2>"
   ],
   "cell_type": "markdown",
   "metadata": {}
  },
  {
   "cell_type": "code",
   "execution_count": null,
   "metadata": {},
   "outputs": [],
   "source": [
    "tic = time.time()\n",
    "model = pc.estimate()\n",
    "print('\\n Время выполнения: ', time.time()-tic)"
   ]
  },
  {
   "cell_type": "code",
   "execution_count": null,
   "metadata": {},
   "outputs": [],
   "source": [
    "G_K2 = nx.DiGraph()\n",
    "G_K2.add_edges_from(model.edges())\n",
    "pos = nx.layout.circular_layout(G_K2)\n",
    "nx.draw(G_K2, pos, node_size=10, font_size=9, with_labels=True,font_weight='bold')"
   ]
  },
  {
   "source": [
    "<h2>Создание байесовской сети</h2>"
   ],
   "cell_type": "markdown",
   "metadata": {}
  },
  {
   "source": [
    "# Создание байесовской модели.\n",
    "bn = BayesianModel(model.edges())"
   ],
   "cell_type": "code",
   "metadata": {},
   "execution_count": null,
   "outputs": []
  },
  {
   "source": [
    "<h2>Обучение сетей</h2>"
   ],
   "cell_type": "markdown",
   "metadata": {}
  },
  {
   "cell_type": "code",
   "execution_count": null,
   "metadata": {},
   "outputs": [],
   "source": [
    "tic = time.time()\n",
    "# Обучение параметров.\n",
    "bn.fit(trainsformed_data)\n",
    "print('\\n Время выполнения: ', time.time()-tic)"
   ]
  },
  {
   "cell_type": "code",
   "execution_count": null,
   "metadata": {},
   "outputs": [],
   "source": [
    "tic = time.time()\n",
    "# Заполнение пропусков\n",
    "result_data = bn.predict(mis_data)\n",
    "print('\\n Время выполнения: ', time.time()-tic)"
   ]
  },
  {
   "source": [
    "<h2>Подсчет точности заполнения пропусков сетями</h2>"
   ],
   "cell_type": "markdown",
   "metadata": {}
  },
  {
   "cell_type": "code",
   "execution_count": null,
   "metadata": {},
   "outputs": [],
   "source": [
    "result_data.reset_index(drop=True, inplace=True)\n",
    "testformed_data.reset_index(drop=True, inplace=True)\n",
    "concat_data = result_data[['Disease']]\n",
    "concat_data = pd.concat([testformed_data[['Lupin coef']], concat_data],axis=1)"
   ]
  },
  {
   "cell_type": "code",
   "execution_count": null,
   "metadata": {},
   "outputs": [],
   "source": [
    "porosity = est.inverse_transform(concat_data)"
   ]
  },
  {
   "cell_type": "code",
   "execution_count": null,
   "metadata": {},
   "outputs": [],
   "source": [
    "import math\n",
    "error = 0\n",
    "for i in range(len(porosity)):\n",
    "    print(porosity[i,1], x_test.values[i,8])\n",
    "    error += (porosity[i,1]-x_test.values[i,8])**2\n",
    "\n",
    "error = math.sqrt(error / len(porosity))\n",
    "print('\\n Средневкадратическая ошибка: ', error)"
   ]
  },
  {
   "cell_type": "code",
   "execution_count": null,
   "metadata": {},
   "outputs": [],
   "source": [
    "regime = leon.inverse_transform(result_data.values.astype(int))"
   ]
  },
  {
   "cell_type": "code",
   "execution_count": null,
   "metadata": {
    "tags": [
     "outputPrepend"
    ]
   },
   "outputs": [],
   "source": [
    "true_false(x_test,regime)"
   ]
  },
  {
   "cell_type": "code",
   "execution_count": null,
   "metadata": {},
   "outputs": [],
   "source": []
  }
 ]
}